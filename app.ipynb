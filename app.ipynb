{
 "cells": [
  {
   "cell_type": "code",
   "execution_count": 13,
   "metadata": {},
   "outputs": [
    {
     "name": "stdout",
     "output_type": "stream",
     "text": [
      "Training completed. Output written to output.txt.\n"
     ]
    }
   ],
   "source": [
    "import numpy as np\n",
    "import matplotlib.pyplot as plt\n",
    "import tensorflow as tf\n",
    "import cv2\n",
    "import sys\n",
    "\n",
    "def relu(x):\n",
    "    return np.maximum(0, x)\n",
    "\n",
    "def softmax(x):\n",
    "    exp_scores = np.exp(x - np.max(x, axis=1, keepdims=True))\n",
    "    return exp_scores / np.sum(exp_scores, axis=1, keepdims=True)\n",
    "\n",
    "def cross_entropy_loss(y_pred, y_true):\n",
    "    m = y_true.shape[0]\n",
    "    log_probs = -np.log(y_pred[range(m), np.argmax(y_true, axis=1)])\n",
    "    loss = np.sum(log_probs) / m\n",
    "    return loss\n",
    "\n",
    "def gradient_descent(params, grads, learning_rate):\n",
    "    for param, grad in zip(params, grads):\n",
    "        param -= learning_rate * grad\n",
    "    return params\n",
    "\n",
    "(x_train, y_train), (x_test, y_test) = tf.keras.datasets.mnist.load_data()\n",
    "x_train_flat = x_train.reshape(x_train.shape[0], -1) / 255.0\n",
    "x_test_flat = x_test.reshape(x_test.shape[0], -1) / 255.0\n",
    "\n",
    "num_classes = 10\n",
    "y_train_onehot = np.eye(num_classes)[y_train]\n",
    "y_test_onehot = np.eye(num_classes)[y_test]\n",
    "\n",
    "input_size = x_train_flat.shape[1]\n",
    "hidden_size = 128\n",
    "output_size = num_classes\n",
    "learning_rate = 0.01\n",
    "num_epochs = 10\n",
    "batch_size = 64\n",
    "np.random.seed(0)\n",
    "W1 = np.random.randn(input_size, hidden_size) * 0.01\n",
    "b1 = np.zeros(hidden_size)\n",
    "W2 = np.random.randn(hidden_size, output_size) * 0.01\n",
    "b2 = np.zeros(output_size)\n",
    "output_file = open('output.txt', 'w')\n",
    "original_stdout = sys.stdout\n",
    "sys.stdout = output_file\n",
    "losses = []\n",
    "for epoch in range(num_epochs):\n",
    "    permutation = np.random.permutation(x_train_flat.shape[0])\n",
    "    x_train_shuffled = x_train_flat[permutation]\n",
    "    y_train_shuffled = y_train_onehot[permutation]\n",
    "    for i in range(0, x_train_flat.shape[0], batch_size):\n",
    "        x_batch = x_train_shuffled[i:i+batch_size]\n",
    "        y_batch = y_train_shuffled[i:i+batch_size]\n",
    "        hidden_layer = relu(np.dot(x_batch, W1) + b1)\n",
    "        scores = np.dot(hidden_layer, W2) + b2\n",
    "        probs = softmax(scores)\n",
    "        loss = cross_entropy_loss(probs, y_batch)\n",
    "        losses.append(loss)\n",
    "        dscores = probs - y_batch\n",
    "        dW2 = np.dot(hidden_layer.T, dscores)\n",
    "        db2 = np.sum(dscores, axis=0)\n",
    "        dhidden = np.dot(dscores, W2.T)\n",
    "        dhidden[hidden_layer <= 0] = 0\n",
    "        dW1 = np.dot(x_batch.T, dhidden)\n",
    "        db1 = np.sum(dhidden, axis=0)\n",
    "        \n",
    "        W1, b1, W2, b2 = gradient_descent([W1, b1, W2, b2], [dW1, db1, dW2, db2], learning_rate)\n",
    "    print(f'Epoch {epoch+1}/{num_epochs}, Loss: {loss:.4f}')\n",
    "\n",
    "plt.plot(losses)\n",
    "plt.xlabel('Iteration')\n",
    "plt.ylabel('Loss')\n",
    "plt.title('Training Loss Curve')\n",
    "plt.savefig('loss_curve.png') \n",
    "plt.close()\n",
    "\n",
    "sys.stdout = original_stdout\n",
    "output_file.close()\n",
    "\n",
    "print(\"Training completed. Output written to output.txt.\")\n",
    "\n"
   ]
  },
  {
   "cell_type": "code",
   "execution_count": 20,
   "metadata": {},
   "outputs": [
    {
     "name": "stdout",
     "output_type": "stream",
     "text": [
      "Predicted digit: 3\n"
     ]
    }
   ],
   "source": [
    "\n",
    "image_path = 'num.png' \n",
    "image = cv2.imread(image_path, cv2.IMREAD_GRAYSCALE)\n",
    "image_resized = cv2.resize(image, (28, 28))\n",
    "image_normalized = image_resized / 255.0\n",
    "image_flat = image_normalized.reshape(1, -1)\n",
    "hidden_layer = relu(np.dot(image_flat, W1) + b1)\n",
    "scores = np.dot(hidden_layer, W2) + b2\n",
    "probs = softmax(scores)\n",
    "predicted_digit = np.argmax(probs)\n",
    "print(\"Predicted digit:\", predicted_digit)\n"
   ]
  }
 ],
 "metadata": {
  "kernelspec": {
   "display_name": "Python 3",
   "language": "python",
   "name": "python3"
  },
  "language_info": {
   "codemirror_mode": {
    "name": "ipython",
    "version": 3
   },
   "file_extension": ".py",
   "mimetype": "text/x-python",
   "name": "python",
   "nbconvert_exporter": "python",
   "pygments_lexer": "ipython3",
   "version": "3.11.2"
  },
  "orig_nbformat": 4
 },
 "nbformat": 4,
 "nbformat_minor": 2
}
